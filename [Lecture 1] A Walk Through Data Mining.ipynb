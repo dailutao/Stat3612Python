{
 "cells": [
  {
   "cell_type": "code",
   "execution_count": 1,
   "metadata": {
    "collapsed": false
   },
   "outputs": [],
   "source": [
    "import math\n",
    "import numpy as np\n",
    "import pandas as pd\n",
    "from pandas import Series, DataFrame\n",
    "import matplotlib.pyplot as plt\n",
    "%matplotlib inline"
   ]
  },
  {
   "cell_type": "markdown",
   "metadata": {},
   "source": [
    "## Toy Example 1\n",
    "### Data generation\n",
    "$$y = e^{-(x-3)^2} + N(0, 0.1),  x\\geq0$$"
   ]
  },
  {
   "cell_type": "code",
   "execution_count": 2,
   "metadata": {
    "collapsed": false
   },
   "outputs": [],
   "source": [
    "ffun = lambda x: math.exp(-(x-3)**2)\n",
    "ffun = np.vectorize(ffun)\n",
    "\n",
    "np.random.seed(seed = 2017)\n",
    "\n",
    "x = np.arange(0.1, 4.1, 0.1)\n",
    "y = ffun(x) + 0.1*np.random.normal(size=len(x))"
   ]
  },
  {
   "cell_type": "code",
   "execution_count": 3,
   "metadata": {
    "collapsed": false
   },
   "outputs": [],
   "source": [
    "DataX = DataFrame({'x': x, 'y': y})"
   ]
  },
  {
   "cell_type": "code",
   "execution_count": 4,
   "metadata": {
    "collapsed": false
   },
   "outputs": [
    {
     "data": {
      "text/html": [
       "<div>\n",
       "<table border=\"1\" class=\"dataframe\">\n",
       "  <thead>\n",
       "    <tr style=\"text-align: right;\">\n",
       "      <th></th>\n",
       "      <th>x</th>\n",
       "      <th>y</th>\n",
       "    </tr>\n",
       "  </thead>\n",
       "  <tbody>\n",
       "    <tr>\n",
       "      <th>0</th>\n",
       "      <td>0.1</td>\n",
       "      <td>-0.102072</td>\n",
       "    </tr>\n",
       "    <tr>\n",
       "      <th>1</th>\n",
       "      <td>0.2</td>\n",
       "      <td>-0.013646</td>\n",
       "    </tr>\n",
       "    <tr>\n",
       "      <th>2</th>\n",
       "      <td>0.3</td>\n",
       "      <td>0.020592</td>\n",
       "    </tr>\n",
       "    <tr>\n",
       "      <th>3</th>\n",
       "      <td>0.4</td>\n",
       "      <td>0.058507</td>\n",
       "    </tr>\n",
       "    <tr>\n",
       "      <th>4</th>\n",
       "      <td>0.5</td>\n",
       "      <td>-0.037527</td>\n",
       "    </tr>\n",
       "    <tr>\n",
       "      <th>...</th>\n",
       "      <td>...</td>\n",
       "      <td>...</td>\n",
       "    </tr>\n",
       "    <tr>\n",
       "      <th>35</th>\n",
       "      <td>3.6</td>\n",
       "      <td>0.589007</td>\n",
       "    </tr>\n",
       "    <tr>\n",
       "      <th>36</th>\n",
       "      <td>3.7</td>\n",
       "      <td>0.615242</td>\n",
       "    </tr>\n",
       "    <tr>\n",
       "      <th>37</th>\n",
       "      <td>3.8</td>\n",
       "      <td>0.493638</td>\n",
       "    </tr>\n",
       "    <tr>\n",
       "      <th>38</th>\n",
       "      <td>3.9</td>\n",
       "      <td>0.392832</td>\n",
       "    </tr>\n",
       "    <tr>\n",
       "      <th>39</th>\n",
       "      <td>4.0</td>\n",
       "      <td>0.566772</td>\n",
       "    </tr>\n",
       "  </tbody>\n",
       "</table>\n",
       "<p>40 rows × 2 columns</p>\n",
       "</div>"
      ],
      "text/plain": [
       "      x         y\n",
       "0   0.1 -0.102072\n",
       "1   0.2 -0.013646\n",
       "2   0.3  0.020592\n",
       "3   0.4  0.058507\n",
       "4   0.5 -0.037527\n",
       "..  ...       ...\n",
       "35  3.6  0.589007\n",
       "36  3.7  0.615242\n",
       "37  3.8  0.493638\n",
       "38  3.9  0.392832\n",
       "39  4.0  0.566772\n",
       "\n",
       "[40 rows x 2 columns]"
      ]
     },
     "execution_count": 4,
     "metadata": {},
     "output_type": "execute_result"
    }
   ],
   "source": [
    "pd.options.display.max_rows = 10\n",
    "DataX"
   ]
  },
  {
   "cell_type": "code",
   "execution_count": 5,
   "metadata": {
    "collapsed": false
   },
   "outputs": [
    {
     "data": {
      "text/html": [
       "<div>\n",
       "<table border=\"1\" class=\"dataframe\">\n",
       "  <thead>\n",
       "    <tr style=\"text-align: right;\">\n",
       "      <th></th>\n",
       "      <th>x</th>\n",
       "      <th>y</th>\n",
       "    </tr>\n",
       "  </thead>\n",
       "  <tbody>\n",
       "    <tr>\n",
       "      <th>count</th>\n",
       "      <td>40.000000</td>\n",
       "      <td>40.000000</td>\n",
       "    </tr>\n",
       "    <tr>\n",
       "      <th>mean</th>\n",
       "      <td>2.050000</td>\n",
       "      <td>0.397721</td>\n",
       "    </tr>\n",
       "    <tr>\n",
       "      <th>std</th>\n",
       "      <td>1.169045</td>\n",
       "      <td>0.410285</td>\n",
       "    </tr>\n",
       "    <tr>\n",
       "      <th>min</th>\n",
       "      <td>0.100000</td>\n",
       "      <td>-0.129335</td>\n",
       "    </tr>\n",
       "    <tr>\n",
       "      <th>25%</th>\n",
       "      <td>1.075000</td>\n",
       "      <td>0.012032</td>\n",
       "    </tr>\n",
       "    <tr>\n",
       "      <th>50%</th>\n",
       "      <td>2.050000</td>\n",
       "      <td>0.325889</td>\n",
       "    </tr>\n",
       "    <tr>\n",
       "      <th>75%</th>\n",
       "      <td>3.025000</td>\n",
       "      <td>0.713357</td>\n",
       "    </tr>\n",
       "    <tr>\n",
       "      <th>max</th>\n",
       "      <td>4.000000</td>\n",
       "      <td>1.142684</td>\n",
       "    </tr>\n",
       "  </tbody>\n",
       "</table>\n",
       "</div>"
      ],
      "text/plain": [
       "               x          y\n",
       "count  40.000000  40.000000\n",
       "mean    2.050000   0.397721\n",
       "std     1.169045   0.410285\n",
       "min     0.100000  -0.129335\n",
       "25%     1.075000   0.012032\n",
       "50%     2.050000   0.325889\n",
       "75%     3.025000   0.713357\n",
       "max     4.000000   1.142684"
      ]
     },
     "execution_count": 5,
     "metadata": {},
     "output_type": "execute_result"
    }
   ],
   "source": [
    "DataX.describe()"
   ]
  },
  {
   "cell_type": "markdown",
   "metadata": {},
   "source": [
    "### Calculate the covariance between x and y\n",
    "Method 1: numpy"
   ]
  },
  {
   "cell_type": "code",
   "execution_count": 6,
   "metadata": {
    "collapsed": false
   },
   "outputs": [
    {
     "name": "stdout",
     "output_type": "stream",
     "text": [
      "The covariance between x and y is 0.801511522813\n"
     ]
    }
   ],
   "source": [
    "corr1 = np.corrcoef(x,y)[0,1]\n",
    "print 'The covariance between x and y is {}'.format(corr1)"
   ]
  },
  {
   "cell_type": "markdown",
   "metadata": {},
   "source": [
    "Method 2: pandas"
   ]
  },
  {
   "cell_type": "code",
   "execution_count": 7,
   "metadata": {
    "collapsed": false
   },
   "outputs": [
    {
     "name": "stdout",
     "output_type": "stream",
     "text": [
      "The covariance between x and y is 0.801511522813\n"
     ]
    }
   ],
   "source": [
    "corr2 = DataX.corr().values[0,1]\n",
    "print 'The covariance between x and y is {}'.format(corr2)"
   ]
  },
  {
   "cell_type": "code",
   "execution_count": 8,
   "metadata": {
    "collapsed": false,
    "scrolled": true
   },
   "outputs": [
    {
     "data": {
      "image/png": "[encoded data removed]",
      "text/plain": [
       "<matplotlib.figure.Figure at 0x1179cc9d0>"
      ]
     },
     "metadata": {},
     "output_type": "display_data"
    }
   ],
   "source": [
    "plt.scatter(x,y)\n",
    "plt.title('Simulated Toy Example')\n",
    "plt.xlabel('x')\n",
    "plt.ylabel('y')\n",
    "plt.xlim([0,4]);"
   ]
  },
  {
   "cell_type": "markdown",
   "metadata": {},
   "source": [
    "plot=DataX.plot.scatter(x='x',y='y').set_title('Simulated Toy Example')"
   ]
  },
  {
   "cell_type": "markdown",
   "metadata": {},
   "source": [
    "### Fit data"
   ]
  },
  {
   "cell_type": "code",
   "execution_count": 9,
   "metadata": {
    "collapsed": true
   },
   "outputs": [],
   "source": [
    "def curve_fitting(x, y, degrees):\n",
    "    p = np.polyfit(x, y, degrees)\n",
    "    q = np.poly1d(p)\n",
    "    plt.plot(x, q(x))\n",
    "    return q(x)"
   ]
  },
  {
   "cell_type": "code",
   "execution_count": 10,
   "metadata": {
    "collapsed": false
   },
   "outputs": [
    {
     "name": "stderr",
     "output_type": "stream",
     "text": [
      "/Users/lutaodai/anaconda/lib/python2.7/site-packages/numpy/lib/polynomial.py:595: RankWarning: Polyfit may be poorly conditioned\n",
      "  warnings.warn(msg, RankWarning)\n"
     ]
    },
    {
     "data": {
      "image/png": "[encoded data removed]",
      "text/plain": [
       "<matplotlib.figure.Figure at 0x11a028650>"
      ]
     },
     "metadata": {},
     "output_type": "display_data"
    }
   ],
   "source": [
    "plt.scatter(x,y)\n",
    "plt.xlim([0,4]);\n",
    "\n",
    "fit1 = curve_fitting(x, y, 1) # Linear model\n",
    "fit2 = curve_fitting(x, y, 2) # Quadratic model\n",
    "fit3 = curve_fitting(x, y, 3) # Cubic model\n",
    "fit4 = curve_fitting(x, y, 5) # Degree 5\n",
    "fit5 = curve_fitting(x, y, 9) # Degree 9\n",
    "fit6 = curve_fitting(x, y, 10) # Degree 10\n",
    "fit7 = curve_fitting(x, y, 20) # Degree 20\n",
    "\n",
    "plt.xlabel('x');\n",
    "plt.ylabel('y');"
   ]
  },
  {
   "cell_type": "markdown",
   "metadata": {},
   "source": [
    "## Mean Squared Error (MSE)\n",
    "$$MSE=\\frac{1}n \\sum_{i=1}^{n}[y_i-\\hat{f}(x)]^2$$"
   ]
  },
  {
   "cell_type": "code",
   "execution_count": 11,
   "metadata": {
    "collapsed": false
   },
   "outputs": [
    {
     "data": {
      "text/plain": [
       "<matplotlib.text.Text at 0x11a0a3ad0>"
      ]
     },
     "execution_count": 11,
     "metadata": {},
     "output_type": "execute_result"
    },
    {
     "data": {
      "image/png": "[encoded data removed]",
      "text/plain": [
       "<matplotlib.figure.Figure at 0x11a015ed0>"
      ]
     },
     "metadata": {},
     "output_type": "display_data"
    }
   ],
   "source": [
    "n = len(x)\n",
    "MSE = []\n",
    "MSE.append(sum((y-fit1)**2)/n)\n",
    "MSE.append(sum((y-fit2)**2)/n)\n",
    "MSE.append(sum((y-fit3)**2)/n)\n",
    "MSE.append(sum((y-fit4)**2)/n)\n",
    "MSE.append(sum((y-fit5)**2)/n)\n",
    "MSE.append(sum((y-fit6)**2)/n)\n",
    "MSE.append(sum((y-fit7)**2)/n)\n",
    "K = [1, 2, 3, 5, 9, 10, 20]\n",
    "\n",
    "plt.plot(K, MSE, 'ro-', mfc = 'none')\n",
    "plt.title('Mean Square Error')\n",
    "plt.xlabel('K')\n",
    "plt.ylabel('MSE')"
   ]
  },
  {
   "cell_type": "code",
   "execution_count": 12,
   "metadata": {
    "collapsed": false
   },
   "outputs": [
    {
     "data": {
      "image/png": "[encoded data removed]",
      "text/plain": [
       "<matplotlib.figure.Figure at 0x11a03ead0>"
      ]
     },
     "metadata": {},
     "output_type": "display_data"
    }
   ],
   "source": [
    "np.random.seed(seed = 9999)\n",
    "\n",
    "xnew = np.arange(0.6, 4.6, 0.1)\n",
    "ynew = ffun(xnew) + 0.1*np.random.normal(size=len(xnew))\n",
    "\n",
    "TextX = DataFrame({'xnew': xnew, 'ynew': ynew})\n",
    "\n",
    "plt.scatter(x, y)\n",
    "plt.xlim([0,5])\n",
    "plt.scatter(xnew, ynew, facecolor='none');\n",
    "plt.legend(['Old data','New data'],loc=2);"
   ]
  },
  {
   "cell_type": "code",
   "execution_count": 13,
   "metadata": {
    "collapsed": false
   },
   "outputs": [
    {
     "data": {
      "text/plain": [
       "[0.14802342868866114,\n",
       " 0.093983983835958379,\n",
       " 0.047514974333808704,\n",
       " 0.065636847101221613,\n",
       " 0.76503751380595975]"
      ]
     },
     "execution_count": 13,
     "metadata": {},
     "output_type": "execute_result"
    }
   ],
   "source": [
    "def predict(x, y, degrees, xnew):\n",
    "    p = np.polyfit(x, y, degrees)\n",
    "    q = np.poly1d(p)\n",
    "    return q(xnew)\n",
    "\n",
    "predictions = [predict(x, y, i, xnew) for i in [1, 2, 3, 5, 9]]\n",
    "nnew = TextX.shape[0]\n",
    "TestMSE = [sum((ynew - pred)**2)/nnew for pred in predictions]\n",
    "TestMSE\n"
   ]
  },
  {
   "cell_type": "code",
   "execution_count": 14,
   "metadata": {
    "collapsed": false
   },
   "outputs": [
    {
     "data": {
      "image/png": "[encoded data removed]",
      "text/plain": [
       "<matplotlib.figure.Figure at 0x11a3d5a10>"
      ]
     },
     "metadata": {},
     "output_type": "display_data"
    }
   ],
   "source": [
    "plt.plot(K[:-2], MSE[:-2], label='Training Error')\n",
    "plt.plot(K[:-2], TestMSE, label = 'Testing Error')\n",
    "plt.legend(loc=2);\n",
    "plt.xlabel('Polynomial order');\n",
    "plt.ylabel('MSE');"
   ]
  },
  {
   "cell_type": "markdown",
   "metadata": {},
   "source": [
    "Expected Test MSE\n",
    "$$D[y-\\hat{f}(x)]^2=Var(\\hat{f}(x))^2+[Bias\\hat{f}]^2+Var(\\epsilon)$$\n",
    "\n",
    "Related topics:\n",
    "* Training data, testing data\n",
    "* Types of errors\n",
    "* Bias-variance trade-off"
   ]
  },
  {
   "cell_type": "markdown",
   "metadata": {},
   "source": [
    "## To be continued ..."
   ]
  },
  {
   "cell_type": "code",
   "execution_count": null,
   "metadata": {
    "collapsed": true
   },
   "outputs": [],
   "source": []
  }
 ],
 "metadata": {
  "anaconda-cloud": {},
  "kernelspec": {
   "display_name": "Python [Root]",
   "language": "python",
   "name": "Python [Root]"
  },
  "language_info": {
   "codemirror_mode": {
    "name": "ipython",
    "version": 2
   },
   "file_extension": ".py",
   "mimetype": "text/x-python",
   "name": "python",
   "nbconvert_exporter": "python",
   "pygments_lexer": "ipython2",
   "version": "2.7.12"
  }
 },
 "nbformat": 4,
 "nbformat_minor": 0
}
